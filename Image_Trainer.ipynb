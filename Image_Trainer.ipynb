{
  "nbformat": 4,
  "nbformat_minor": 0,
  "metadata": {
    "colab": {
      "name": "Image_Trainer.ipynb",
      "provenance": [],
      "collapsed_sections": [],
      "toc_visible": true,
      "mount_file_id": "1z-UONSAONKYux3tQC3TEAL9u3bd05-dJ",
      "authorship_tag": "ABX9TyMOy7Nh7DpFRP3Ga5KzVXEN",
      "include_colab_link": true
    },
    "kernelspec": {
      "name": "python3",
      "display_name": "Python 3"
    },
    "accelerator": "GPU"
  },
  "cells": [
    {
      "cell_type": "markdown",
      "metadata": {
        "id": "view-in-github",
        "colab_type": "text"
      },
      "source": [
        "<a href=\"https://colab.research.google.com/github/bsk17/Face_Attendance_Major_Project/blob/master/Image_Trainer.ipynb\" target=\"_parent\"><img src=\"https://colab.research.google.com/assets/colab-badge.svg\" alt=\"Open In Colab\"/></a>"
      ]
    },
    {
      "cell_type": "code",
      "metadata": {
        "colab_type": "code",
        "id": "0_BtOghV9Gag",
        "colab": {
          "base_uri": "https://localhost:8080/",
          "height": 122
        },
        "outputId": "c39638d1-2087-4963-b5b4-fa73026270b4"
      },
      "source": [
        "# this will help to mount the drive into colab to get the directory and workk\n",
        "# around it\n",
        "# first we need to run this file to ensure our colab connects to the drive\n",
        "\n",
        "from google.colab import drive\n",
        "drive.mount('/gdrive')"
      ],
      "execution_count": 1,
      "outputs": [
        {
          "output_type": "stream",
          "text": [
            "Go to this URL in a browser: https://accounts.google.com/o/oauth2/auth?client_id=947318989803-6bn6qk8qdgf4n4g3pfee6491hc0brc4i.apps.googleusercontent.com&redirect_uri=urn%3aietf%3awg%3aoauth%3a2.0%3aoob&response_type=code&scope=email%20https%3a%2f%2fwww.googleapis.com%2fauth%2fdocs.test%20https%3a%2f%2fwww.googleapis.com%2fauth%2fdrive%20https%3a%2f%2fwww.googleapis.com%2fauth%2fdrive.photos.readonly%20https%3a%2f%2fwww.googleapis.com%2fauth%2fpeopleapi.readonly\n",
            "\n",
            "Enter your authorization code:\n",
            "··········\n",
            "Mounted at /gdrive\n"
          ],
          "name": "stdout"
        }
      ]
    },
    {
      "cell_type": "code",
      "metadata": {
        "id": "8885OXbp9K97",
        "colab_type": "code",
        "colab": {
          "base_uri": "https://localhost:8080/",
          "height": 34
        },
        "outputId": "d0cf43ab-9f5b-4868-af84-da0e51ef7984"
      },
      "source": [
        "# this module will take the images from the folder in drive, train them and save \n",
        "# the trainer into the directory specified in the drive\n",
        "# second we run this to train\n",
        "\n",
        "import cv2\n",
        "import os\n",
        "from PIL import Image\n",
        "import numpy as np\n",
        "\n",
        "def get_images_and_label(path):\n",
        "    # get the path of all the files in the folder\n",
        "    image_paths = [os.path.join(path, f) for f in os.listdir(path)]\n",
        "    \n",
        "    # create empty face list\n",
        "    faces = []\n",
        "      \n",
        "    # create empty ID list\n",
        "    Ids = []\n",
        "\n",
        "    # now looping through all the image paths and loading the Ids and the images\n",
        "    for imagePath in image_paths:\n",
        "        # loading the image and converting it to gray scale\n",
        "        pil_image = Image.open(imagePath).convert('L')\n",
        "\n",
        "        # Now we are converting the PIL image into numpy array\n",
        "        image_np = np.array(pil_image, 'uint8')\n",
        "\n",
        "        # getting the Id from the image\n",
        "        id = int(os.path.split(imagePath)[-1].split(\".\")[1])\n",
        "\n",
        "        # extract the face from the training image sample\n",
        "        faces.append(image_np)\n",
        "        Ids.append(id)\n",
        "    return faces, Ids\n",
        "\n",
        "# to train the images captured so far\n",
        "# we create LBPH recognizer\n",
        "recognizer = cv2.face.LBPHFaceRecognizer_create()\n",
        "# we use frontal face features\n",
        "harcascade_path = \"haarcascade_frontalface_default.xml\"\n",
        "detector = cv2.CascadeClassifier(harcascade_path)\n",
        "# we have to check each time for the location of mounted drive folder\n",
        "faces, Id = get_images_and_label(\"/gdrive/My Drive/Colab Notebooks/TrainingImage\")\n",
        "recognizer.train(faces, np.array(Id))\n",
        "# creating the trainer\n",
        "# we have to check each time for the location of mounted drive folder\n",
        "recognizer.save('/gdrive/My Drive/Colab Notebooks/Trainer.yml')\n",
        "print(\"Images Trained. Trainer file will be uploaded to drive shortly depending on your net speed\")"
      ],
      "execution_count": 3,
      "outputs": [
        {
          "output_type": "stream",
          "text": [
            "Images Trained. Trainer file will be uploaded to drive shortly depending on your net speed\n"
          ],
          "name": "stdout"
        }
      ]
    }
  ]
}